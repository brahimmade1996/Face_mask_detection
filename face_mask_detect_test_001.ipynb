{
  "nbformat": 4,
  "nbformat_minor": 0,
  "metadata": {
    "colab": {
      "name": "face_mask_detect_test_001",
      "provenance": [],
      "private_outputs": true,
      "collapsed_sections": [],
      "mount_file_id": "1OrTgeOAlDQfCcP2oq1AxB2pVyiBx7vU1",
      "authorship_tag": "ABX9TyM7TLuAhlRa+G4ZpnrCcOaw",
      "include_colab_link": true
    },
    "kernelspec": {
      "name": "python3",
      "display_name": "Python 3"
    },
    "accelerator": "GPU"
  },
  "cells": [
    {
      "cell_type": "markdown",
      "metadata": {
        "id": "view-in-github",
        "colab_type": "text"
      },
      "source": [
        "<a href=\"https://colab.research.google.com/github/nkrjain5/Face_mask_detection/blob/master/face_mask_detect_test_001.ipynb\" target=\"_parent\"><img src=\"https://colab.research.google.com/assets/colab-badge.svg\" alt=\"Open In Colab\"/></a>"
      ]
    },
    {
      "cell_type": "code",
      "metadata": {
        "id": "EvoKOiaHvUL3",
        "colab_type": "code",
        "colab": {}
      },
      "source": [
        "from keras.preprocessing.image import ImageDataGenerator\n",
        "from keras.models import Sequential\n",
        "from keras.layers import Conv2D, Activation,MaxPooling2D, Flatten, Dense, Dropout\n",
        "from keras.callbacks import ModelCheckpoint\n",
        "from keras.optimizers import Adam\n",
        "from keras.utils import plot_model\n",
        "from matplotlib import pyplot\n",
        "\n",
        "import numpy as np\n"
      ],
      "execution_count": null,
      "outputs": []
    },
    {
      "cell_type": "code",
      "metadata": {
        "id": "HwGe2LMIvWjW",
        "colab_type": "code",
        "colab": {}
      },
      "source": [
        "KERNEL_SIZE=(3,3)\n",
        "RELU=\"relu\"\n",
        "SOFTMAX=\"softmax\"\n",
        "PADDING=\"same\"\n",
        "SIGMOID='sigmoid'\n",
        "RMSPROP='rmsprop'\n",
        "LOSS_BIN='binary_crossentropy'\n",
        "LOSS_CAT='categorical_crossentropy'\n",
        "LEARNING_RATE=0.001\n",
        "\n",
        "EPOCH=50\n",
        "\n",
        "input_shape=(224,224,3\t)\n",
        "num_classes=1\n",
        "num_pixels=0\n",
        "BATCH_SIZE=32\n",
        "\n",
        "VERBOSE_ON=1\n",
        "VERBOSE_OFF=0\n",
        "VERBOSE_ONE_LINE_EPOCH=2\n",
        "input_data_size=(224,224)\n",
        "\n",
        "train_data_dir=r'/media/ankur/CDAC3/Udemy/DL/face_mask_detection_pyimagesearch/Face_mask_detector_nkr/dataset/Train/'\n",
        "drive_train_data_path=r'/content/drive/My Drive/DL/Face_mask_detection/dataset/Train/'\n",
        "\n",
        "\n",
        "\n",
        "\n",
        "model_name='face_mask_model_004_100Epochs'\n",
        "model_drive_save_path=r'/content/drive/My Drive/DL/Face_mask_detection/Trained_mode/'+model_name+'.h5'\n",
        "plots_drive_save_path=r'/content/drive/My Drive/DL/Face_mask_detection/Trained_mode/'+model_name+'.jpeg'\n",
        "model_summary_save_path=r'/content/drive/My Drive/DL/Face_mask_detection/Trained_mode/'+model_name+'.png'\n"
      ],
      "execution_count": null,
      "outputs": []
    },
    {
      "cell_type": "code",
      "metadata": {
        "id": "KlInTAaovawV",
        "colab_type": "code",
        "colab": {}
      },
      "source": [
        "def generate_model(summary=1,save=1):\n",
        "  model=Sequential()\n",
        "\n",
        "  model.add(Conv2D(64,KERNEL_SIZE,input_shape=input_shape))\n",
        "  model.add(Activation(RELU))\n",
        "  model.add(Conv2D(64,KERNEL_SIZE,input_shape=input_shape))\n",
        "  model.add(Activation(RELU))\n",
        "  model.add(MaxPooling2D(pool_size=(2,2)))\n",
        "  model.add(Conv2D(64,KERNEL_SIZE))\n",
        "  model.add(Activation(RELU))\n",
        "  model.add(MaxPooling2D(pool_size=(2,2)))\n",
        "\n",
        "  model.add(Conv2D(128,KERNEL_SIZE))\n",
        "  model.add(Activation(RELU))\n",
        "  model.add(MaxPooling2D(pool_size=(2,2)))\n",
        "  model.add(Conv2D(128,KERNEL_SIZE))\n",
        "  model.add(Activation(RELU))\n",
        "  model.add(MaxPooling2D(pool_size=(2,2)))\n",
        "\n",
        "  model.add(Flatten())\n",
        "  model.add(Dense(64))\n",
        "  model.add(Activation(RELU))\n",
        "  model.add(Dropout(0.5))\n",
        "\n",
        "  model.add(Dense(1))\n",
        "  model.add(Activation(SIGMOID))\n",
        "\n",
        "  model.compile(loss=LOSS_BIN,optimizer=Adam(0.0001),metrics=['accuracy'])\n",
        "\n",
        "  if summary:\n",
        "    print(model.summary())\n",
        "  if save:\n",
        "    plot_model(model, to_file=model_summary_save_path)\n",
        "  return model"
      ],
      "execution_count": null,
      "outputs": []
    },
    {
      "cell_type": "code",
      "metadata": {
        "id": "ZMtKcu9rvcnw",
        "colab_type": "code",
        "colab": {}
      },
      "source": [
        "def generate_data(train_path,split=0.2):\n",
        "\taug_data_gen=ImageDataGenerator(\n",
        "\t\trotation_range=90,\n",
        "\t\tshear_range=0.5,\n",
        "\t\tzoom_range=(-2,2),\n",
        "\t\thorizontal_flip=True,\n",
        "\t\tvertical_flip=True,\n",
        "\t\trescale=1./255,\n",
        "\t\tvalidation_split=split\n",
        "\t\t)\n",
        "\ttrain_data=aug_data_gen.flow_from_directory(train_path,shuffle=True,target_size=(224,224),class_mode='binary', subset='training')\n",
        "\ttest_data=aug_data_gen.flow_from_directory(train_path, shuffle=True,target_size=(224,224),class_mode='binary', subset='validation')\n",
        "\treturn train_data,test_data"
      ],
      "execution_count": null,
      "outputs": []
    },
    {
      "cell_type": "code",
      "metadata": {
        "id": "XGzMaE0kzuHi",
        "colab_type": "code",
        "colab": {}
      },
      "source": [
        "def train_model_2(model,train_data,train_lbl,test_data,test_lbl,cb=[]):\n",
        "  history=model.fit( train_data,train_lbl,\n",
        "            batch_size=BATCH_SIZE,\n",
        "            epochs=EPOCH,\n",
        "            verbose=VERBOSE_ON,\n",
        "            validation_data=(test_data,test_lbl),\n",
        "            shuffle=True,\n",
        "            callbacks=cb\n",
        "  )\n",
        "  score=model.evaluate(test_data,test_lbl,verbose=VERBOSE_ON)\n",
        "  \n",
        "  return model,score,history"
      ],
      "execution_count": null,
      "outputs": []
    },
    {
      "cell_type": "code",
      "metadata": {
        "id": "8k0FSgZWvd84",
        "colab_type": "code",
        "colab": {}
      },
      "source": [
        "def train_model(model,train_data,test_data,cb=[]):\n",
        "  history=model.fit_generator(\n",
        "  train_data,\n",
        "  steps_per_epoch=1109//EPOCH ,#len(train_data)//EPOCH,\n",
        "  epochs=EPOCH,\n",
        "  verbose=VERBOSE_ON,\n",
        "  validation_data=test_data,\n",
        "  validation_steps=277//EPOCH,#len(test_data)//EPOCH,\n",
        "  callbacks=cb\n",
        "  )\n",
        "  score=model.evaluate_generator(test_data,verbose=VERBOSE_ON)\n",
        "  return model,score,history"
      ],
      "execution_count": null,
      "outputs": []
    },
    {
      "cell_type": "code",
      "metadata": {
        "id": "I64zURA-hZWa",
        "colab_type": "code",
        "colab": {}
      },
      "source": [
        "def plot_graphs(history):\n",
        "\n",
        "\t# plot accuracy\n",
        "\tpyplot.subplot(121)\n",
        "\tpyplot.title('Classification Accuracy')\n",
        "\tpyplot.plot(history.history['accuracy'], color='blue', label='train')\n",
        "\tpyplot.plot(history.history['val_accuracy'], color='orange', label='test',)\n",
        "\tpyplot.subplot(122)\n",
        "\tpyplot.title('Loss')\n",
        "\tpyplot.plot(history.history['loss'], color='blue', label='train')\n",
        "\tpyplot.plot(history.history['val_loss'], color='orange', label='test')\n",
        "\t# save plot to file\n",
        "\tpyplot.savefig(plots_drive_save_path)\n",
        "\tpyplot.show()\n",
        "\tpyplot.close()\n"
      ],
      "execution_count": null,
      "outputs": []
    },
    {
      "cell_type": "code",
      "metadata": {
        "id": "D6nig-vBvwI9",
        "colab_type": "code",
        "colab": {}
      },
      "source": [
        "def reshape_data(train_x,train_y,test_x,test_y):\n",
        "  train_y=train_y.reshape(len(train_x),1)\n",
        "  test_y=test_y.reshape(len(test_x),1)\n",
        "\n",
        "  train_x=train_x.astype('float32')\n",
        "  test_x=test_x.astype('float32')  \n",
        "\n",
        "  train_x/=255\n",
        "  test_x/=255\n",
        "\n",
        "  return (train_x,train_y),(test_x,test_y)"
      ],
      "execution_count": null,
      "outputs": []
    },
    {
      "cell_type": "code",
      "metadata": {
        "id": "uaR9FnJnvfmA",
        "colab_type": "code",
        "colab": {}
      },
      "source": [
        "def main():\n",
        "\n",
        "  train_x=np.load('/content/drive/My Drive/DL/Face_mask_detection/dataset/face_mask_train_img.npz')['arr_0']\n",
        "  train_y=np.load('/content/drive/My Drive/DL/Face_mask_detection/dataset/face_mask_train_lbl.npz')['arr_0']\n",
        "\n",
        "  test_x=np.load('/content/drive/My Drive/DL/Face_mask_detection/dataset/face_mask_test_img.npz')['arr_0']\n",
        "  test_y=np.load('/content/drive/My Drive/DL/Face_mask_detection/dataset/face_mask_test_lbl.npz')['arr_0']\n",
        "\n",
        "\n",
        "  checkpoint=checkpoint = ModelCheckpoint(model_drive_save_path, monitor='val_accuracy', verbose=VERBOSE_ON, save_best_only=True, save_weights_only=False, mode='auto', period=1)\n",
        "\n",
        "  model=generate_model(1,1)\n",
        "  # train_data,test_data=generate_data(drive_train_data_path,0.2)\n",
        "  # model,score,history=train_model(model,train_data,test_data,[checkpoint])\n",
        "\n",
        "  (train_data,train_label),(test_data,test_label)=reshape_data(train_x,train_y,test_x,test_y)\n",
        "  model,score,history=train_model_2(model,train_data,train_label,test_data,test_label,[checkpoint])\n",
        "\n",
        "  plot_graphs(history)\n",
        "  # plot_accuracy_and_loss_plots(history,plots_drive_save_path)\n",
        "\n",
        "if __name__ == '__main__':\n",
        "\tmain()"
      ],
      "execution_count": null,
      "outputs": []
    }
  ]
}